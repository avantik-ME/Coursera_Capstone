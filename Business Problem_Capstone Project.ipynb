{
 "cells": [
  {
   "cell_type": "markdown",
   "metadata": {},
   "source": [
    "**Title: Predicting a Severity of Accident**"
   ]
  },
  {
   "cell_type": "markdown",
   "metadata": {},
   "source": [
    "**Background:**\n",
    "        The data used in this project is provided by Seattle Police Department. The goal of this project is to predict the severity of an accident based on the given collision data in the csv file. There are several groups who would be interested in this projects, however, the main focus is on the police department and other first responders would like to know the severity of the accidents to manuver the help that is needed for the victims as soon as possible.\n",
    "Further, the everyday commuters would also benefit from knowing this information, which can help them decide how to re-route their travel plans."
   ]
  },
  {
   "cell_type": "markdown",
   "metadata": {},
   "source": [
    "*Problem Description:*\n",
    "\n",
    "*Why predict the severity of an accident*: In a metropolitian city like Seattle, there is always a high chance of severe accidents based on the heavy traffic. It would be extremely beneficial for the Police Department to be able to predict the severity of a given accidents based on the quick information they can gather, this can help the first responders response more productive and could help save lives. \n",
    "\n",
    "*Major pain points*: Ability to predict the severity of an accident based on four or five factors, even before the first responders can reach an accident zone. \n",
    "\n",
    "*Resources*: The CSV file that was downloaded has several parameters already filled out. This will act as a data set to help create the model and a subset will be used for testing this model. \n",
    "\n",
    "*Benefits of this projects*: If this model works, then the first responders could respond quickly and attend to the injurred victims, thus helping save lives. This would be a major advantage of such a prediction model. \n",
    "\n",
    "*Risks*: Major risk could be over-prediction and thus engaging a large number of first responders even when the accident is relatively less severe. Though this could be tackled by updating the data and remodeling the model on new/ updated model. \n",
    "\n",
    "*Expected outcome*: The expected outcome would be provide a high-level confidence in the prediction, though there is a chance of modelling error in the prediction model due to data discontinuity. \n",
    "\n",
    "**Steps Involved**\n",
    "*1. Elementary Data Analysis*: This step will help us determine the important attributes which will be used in the ML model to develop and train the model. We will also decide which method to use for ML modelling in this step. \n",
    "*2. Modeling and Training*: Model will be trained in this step on the training data. \n",
    "*3. Testing*: Model will be tested in this step on the testing data. "
   ]
  },
  {
   "cell_type": "code",
   "execution_count": null,
   "metadata": {},
   "outputs": [],
   "source": []
  }
 ],
 "metadata": {
  "kernelspec": {
   "display_name": "Python 3",
   "language": "python",
   "name": "python3"
  },
  "language_info": {
   "codemirror_mode": {
    "name": "ipython",
    "version": 3
   },
   "file_extension": ".py",
   "mimetype": "text/x-python",
   "name": "python",
   "nbconvert_exporter": "python",
   "pygments_lexer": "ipython3",
   "version": "3.7.6"
  }
 },
 "nbformat": 4,
 "nbformat_minor": 4
}
